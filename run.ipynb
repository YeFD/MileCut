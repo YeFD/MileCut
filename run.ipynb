{
 "cells": [
  {
   "cell_type": "code",
   "execution_count": 1,
   "metadata": {},
   "outputs": [
    {
     "name": "stdout",
     "output_type": "stream",
     "text": [
      "True\n"
     ]
    }
   ],
   "source": [
    "import torch\n",
    "import numpy as np\n",
    "import random, os\n",
    "os.environ['CUDA_VISIBLE_DEVICES'] = '0'\n",
    "torch.cuda.set_device(0) \n",
    "device = torch.device(\"cuda:0\" if torch.cuda.is_available() else \"cpu\")\n",
    "print(torch.cuda.is_available())\n",
    "def seed_it(seed):\n",
    "    random.seed(seed)\n",
    "    os.environ[\"PYTHONSEED\"] = str(seed)\n",
    "    np.random.seed(seed)\n",
    "    torch.cuda.manual_seed(seed)\n",
    "    torch.cuda.manual_seed_all(seed)\n",
    "    torch.backends.cudnn.deterministic = True\n",
    "    torch.backends.cudnn.benchmark = True\n",
    "    torch.backends.cudnn.enabled = True\n",
    "    torch.manual_seed(seed)\n",
    "seed_it(42)"
   ]
  },
  {
   "cell_type": "code",
   "execution_count": 2,
   "metadata": {},
   "outputs": [],
   "source": [
    "from models.LegalTrainer import *\n",
    "trainer = LegalTrainer()\n",
    "logger.info(trainer.__dict__)"
   ]
  },
  {
   "cell_type": "code",
   "execution_count": 3,
   "metadata": {},
   "outputs": [
    {
     "name": "stderr",
     "output_type": "stream",
     "text": [
      "prepare_civil_dataset train: 100%|██████████| 8/8 [00:00<00:00, 275.63it/s]\n",
      "prepare_civil_dataset test: 100%|██████████| 2/2 [00:00<00:00, 249.78it/s]\n"
     ]
    }
   ],
   "source": [
    "# trainer.prepare_dataset()\n",
    "trainer.prepare_civil_dataset_mini(path='dataset/C3RD_mini')"
   ]
  },
  {
   "cell_type": "code",
   "execution_count": null,
   "metadata": {},
   "outputs": [],
   "source": [
    "from models.trainer_utils import init_dual_model\n",
    "model = init_dual_model(r'bert_ms')"
   ]
  },
  {
   "cell_type": "code",
   "execution_count": 7,
   "metadata": {},
   "outputs": [],
   "source": [
    "def rank_emb_pre(dataset, bert_model):\n",
    "    rank_emb = []\n",
    "    for data in tqdm(dataset, desc='Encoding'):\n",
    "        query = data['query']\n",
    "        ctxs = data['ctxs']\n",
    "        gt_idx = data['gt_idx']\n",
    "\n",
    "        ctxs_accusation = [data['ctxs'][str(i)]['JudgeAccusation'] for i in range(100)]\n",
    "        ctxs_reason = [data['ctxs'][str(i)]['JudgeReason'] for i in range(100)]\n",
    "        ctxs_result = [data['ctxs'][str(i)]['JudgeResult'] for i in range(100)]\n",
    "\n",
    "        q_emb = bert_model.encode([query], convert_to_tensor=True, show_progress_bar=False)\n",
    "        c_emb_accusation = bert_model.encode(ctxs_accusation, convert_to_tensor=True, show_progress_bar=False)\n",
    "        c_emb_reason = bert_model.encode(ctxs_reason, convert_to_tensor=True, show_progress_bar=False)\n",
    "        c_emb_result = bert_model.encode(ctxs_result, convert_to_tensor=True, show_progress_bar=False)\n",
    "        rank_emb.append([q_emb, c_emb_accusation, c_emb_reason, c_emb_result, gt_idx])\n",
    "    return rank_emb"
   ]
  },
  {
   "cell_type": "code",
   "execution_count": 8,
   "metadata": {},
   "outputs": [
    {
     "name": "stderr",
     "output_type": "stream",
     "text": [
      "Encoding: 100%|██████████| 8/8 [00:26<00:00,  3.28s/it]\n",
      "Encoding: 100%|██████████| 2/2 [00:06<00:00,  3.09s/it]\n"
     ]
    }
   ],
   "source": [
    "rank_emb_train = rank_emb_pre(trainer.dataset_train, model)\n",
    "rank_emb_test = rank_emb_pre(trainer.dataset_test, model)"
   ]
  },
  {
   "cell_type": "code",
   "execution_count": 9,
   "metadata": {},
   "outputs": [],
   "source": [
    "from dataloader.dataloader_utils import _get_rank_list, get_is_rel\n",
    "from models.trainer_utils import get_score_oracle, get_score_fix_k, get_score_greedy_k\n",
    "def input_prepare(dataset, rank_emb):\n",
    "    rank_lists_avg = []\n",
    "    for i in trange(len(rank_emb), desc='input_prepare'):\n",
    "        q_emb, c_emb_accusation, c_emb_reason, c_emb_result, gt_idx = rank_emb[i]\n",
    "        c_emb_avg = (c_emb_accusation + c_emb_reason + c_emb_result) / 3\n",
    "        rank_list_avg, rank_score_avg = _get_rank_list(q_emb, c_emb_avg)\n",
    "        rank_lists_avg.append(rank_list_avg)\n",
    "\n",
    "    label_lists = []\n",
    "    for i in trange(len(dataset), desc='input_prepare'):\n",
    "        ctxs = dataset[i]['ctxs']\n",
    "        gt_label = [1 if j in dataset[i]['gt_idx'] else 0 for j in range(100)]\n",
    "        is_rel = get_is_rel(gt_label, rank_lists_avg[i])\n",
    "        label_lists.append(is_rel)\n",
    "    return label_lists\n",
    "\n",
    "def get_stat_score(dataset_train, dataset_test, rank_emb_train, rank_emb_test):\n",
    "    label_lists_train = input_prepare(dataset_train, rank_emb_train)\n",
    "    label_lists_test = input_prepare(dataset_test, rank_emb_test)\n",
    "    print(f'Oracle train: {get_score_oracle(label_lists_train)}, test {get_score_oracle(label_lists_test)}')\n",
    "    ks = [5, 10, 20, 30, 50]\n",
    "    for k in ks:\n",
    "        print(f'Fix@{k} train: {get_score_fix_k(label_lists_train, k)}, test: {get_score_fix_k(label_lists_test, k)}')\n",
    "    print(f'Greedy: {get_score_greedy_k(label_lists_train, label_lists_test)}')"
   ]
  },
  {
   "cell_type": "code",
   "execution_count": 10,
   "metadata": {},
   "outputs": [
    {
     "name": "stderr",
     "output_type": "stream",
     "text": [
      "input_prepare: 100%|██████████| 8/8 [00:00<00:00, 666.03it/s]\n",
      "input_prepare: 100%|██████████| 8/8 [00:00<00:00, 7987.25it/s]\n",
      "input_prepare: 100%|██████████| 2/2 [00:00<00:00, 999.12it/s]\n",
      "input_prepare: 100%|██████████| 2/2 [00:00<?, ?it/s]\n"
     ]
    },
    {
     "name": "stdout",
     "output_type": "stream",
     "text": [
      "Oracle train: (0.4509093924651201, 1.464470831624471, 0.13233477569557728), test (0.5420906567992599, 2.230905342297669, 0.15934959352296718)\n",
      "Fix@5 train: (0.2710672905525847, -0.3402029043004223, 0.08228303193030806), test: (0.3125, 0.0, 0.09489200719555146)\n",
      "Fix@10 train: (0.35761122935035977, -0.8975687913519891, 0.11190572468059419), test: (0.4285714285714286, -0.31546487678572865, 0.13231303058528474)\n",
      "Fix@20 train: (0.3083915313534879, -2.758134376561221, 0.11604387933351826), test: (0.3548387096774194, -2.262992820542445, 0.13617242834647836)\n",
      "Fix@30 train: (0.2743873193115035, -4.503620330724171, 0.1145114583734782), test: (0.2977044476327116, -4.163240751002315, 0.13607625405916607)\n",
      "Fix@50 train: (0.21015036641831364, -7.966391669656177, 0.0998443840029345), test: (0.23588342440801457, -7.516223160115247, 0.12462498444622627)\n",
      "Greedy: (0.45454545454545453, 0.0, 0.1397683223262538)\n"
     ]
    }
   ],
   "source": [
    "get_stat_score(trainer.dataset_train, trainer.dataset_test, rank_emb_train, rank_emb_test)"
   ]
  },
  {
   "cell_type": "code",
   "execution_count": 13,
   "metadata": {},
   "outputs": [
    {
     "name": "stdout",
     "output_type": "stream",
     "text": [
      "prepare dataset_train\n"
     ]
    },
    {
     "name": "stderr",
     "output_type": "stream",
     "text": [
      "get_rank_feature_multi_view: 100%|██████████| 8/8 [00:07<00:00,  1.04it/s]\n",
      "get_stat_feature: 100%|██████████| 8/8 [00:00<?, ?it/s]\n",
      "100%|██████████| 8/8 [00:00<00:00, 3997.43it/s]\n",
      "input_prepare: 100%|██████████| 8/8 [00:00<00:00, 532.84it/s]\n"
     ]
    },
    {
     "name": "stdout",
     "output_type": "stream",
     "text": [
      "prepare dataset_test\n",
      "oracle train: (0.4509093924651201, 1.464470831624471, 0.13233477569557728)\n"
     ]
    },
    {
     "name": "stderr",
     "output_type": "stream",
     "text": [
      "get_rank_feature_multi_view: 100%|██████████| 2/2 [00:01<00:00,  1.06it/s]\n",
      "get_stat_feature: 100%|██████████| 2/2 [00:00<?, ?it/s]\n",
      "100%|██████████| 2/2 [00:00<?, ?it/s]\n",
      "input_prepare: 100%|██████████| 2/2 [00:00<00:00, 399.61it/s]"
     ]
    },
    {
     "name": "stdout",
     "output_type": "stream",
     "text": [
      "oracle test: (0.5420906567992599, 2.230905342297669, 0.15934959352296718)\n"
     ]
    },
    {
     "name": "stderr",
     "output_type": "stream",
     "text": [
      "\n"
     ]
    }
   ],
   "source": [
    "from dataloader.milecut_dataloader import dataloader as mile_dataloader\n",
    "train_loader, test_loader, _ = mile_dataloader(trainer.dataset_train, trainer.dataset_test, rank_emb_train, rank_emb_test, batch_size=1, input_size=6)\n",
    "trainer.train_loader, trainer.test_loader = train_loader, test_loader"
   ]
  },
  {
   "cell_type": "code",
   "execution_count": 15,
   "metadata": {},
   "outputs": [
    {
     "name": "stderr",
     "output_type": "stream",
     "text": [
      "INFO:logs/trainer_20240414-21-29.log:epoch: 30, lr:3e-05, reset_params: True, dropout:0.2, weight_decay:0.005, model_name: MileCut, loss function: MileCut, loss coefficient: 0.6, input_size: 6, batch_size: 20, set_train_seed=True, train_seed=42, view_input_size=3, label_input_size: 9\n",
      "Training for epoch_0: 100%|██████████| 8/8 [00:00<00:00, 11.20it/s]\n",
      "INFO:logs/trainer_20240414-21-29.log:epoch: 0, Train: loss = 3.34944349527359 | f1 = 0.173281 | dcg = -11.849764 | oie = 0.076634\n",
      "Test after epoch_0: 100%|██████████| 2/2 [00:00<00:00, 19.29it/s]\n",
      "INFO:logs/trainer_20240414-21-29.log:epoch: 0, Test: loss = 3.2171730995178223 | f1 = 0.156201 | dcg = -13.421079 | oie = 0.108511\n",
      "INFO:logs/trainer_20240414-21-29.log:epoch: 0 | best_test_f1 = 0.156201 | dcg = -13.421079 | oie = 0.108511\n",
      "INFO:logs/trainer_20240414-21-29.log:The best model has beed updated and saved in models/output/MileCut20240414-21-33.pkl\n",
      "\n",
      "Training for epoch_1: 100%|██████████| 8/8 [00:00<00:00, 14.34it/s]\n",
      "Test after epoch_1: 100%|██████████| 2/2 [00:00<00:00, 18.85it/s]\n",
      "INFO:logs/trainer_20240414-21-29.log:epoch: 1 | best_test_f1 = 0.244133 | dcg = -7.162748 | oie = 0.125640\n",
      "INFO:logs/trainer_20240414-21-29.log:The best model has beed updated and saved in models/output/MileCut20240414-21-33.pkl\n",
      "\n",
      "Training for epoch_2: 100%|██████████| 8/8 [00:00<00:00, 14.06it/s]\n",
      "Test after epoch_2: 100%|██████████| 2/2 [00:00<00:00, 18.75it/s]\n",
      "Training for epoch_3: 100%|██████████| 8/8 [00:00<00:00, 14.44it/s]\n",
      "Test after epoch_3: 100%|██████████| 2/2 [00:00<00:00, 18.33it/s]\n",
      "Training for epoch_4: 100%|██████████| 8/8 [00:00<00:00, 14.35it/s]\n",
      "Test after epoch_4: 100%|██████████| 2/2 [00:00<00:00, 19.40it/s]\n",
      "Training for epoch_5: 100%|██████████| 8/8 [00:00<00:00, 14.28it/s]\n",
      "INFO:logs/trainer_20240414-21-29.log:epoch: 5, Train: loss = 3.2545064985752106 | f1 = 0.280381 | dcg = -6.049460 | oie = 0.095474\n",
      "Test after epoch_5: 100%|██████████| 2/2 [00:00<00:00, 18.92it/s]\n",
      "INFO:logs/trainer_20240414-21-29.log:epoch: 5, Test: loss = 3.153921365737915 | f1 = 0.244133 | dcg = -7.162748 | oie = 0.125640\n",
      "Training for epoch_6: 100%|██████████| 8/8 [00:00<00:00, 14.36it/s]\n",
      "Test after epoch_6: 100%|██████████| 2/2 [00:00<00:00, 18.74it/s]\n",
      "INFO:logs/trainer_20240414-21-29.log:epoch: 6 | best_test_f1 = 0.423077 | dcg = -1.084072 | oie = 0.142368\n",
      "INFO:logs/trainer_20240414-21-29.log:The best model has beed updated and saved in models/output/MileCut20240414-21-33.pkl\n",
      "\n",
      "Training for epoch_7: 100%|██████████| 8/8 [00:00<00:00, 14.34it/s]\n",
      "Test after epoch_7: 100%|██████████| 2/2 [00:00<00:00, 18.50it/s]\n",
      "Training for epoch_8: 100%|██████████| 8/8 [00:00<00:00, 12.66it/s]\n",
      "Test after epoch_8: 100%|██████████| 2/2 [00:00<00:00, 19.21it/s]\n",
      "Training for epoch_9: 100%|██████████| 8/8 [00:00<00:00, 14.50it/s]\n",
      "Test after epoch_9: 100%|██████████| 2/2 [00:00<00:00, 17.84it/s]\n",
      "Training for epoch_10: 100%|██████████| 8/8 [00:00<00:00, 14.54it/s]\n",
      "INFO:logs/trainer_20240414-21-29.log:epoch: 10, Train: loss = 3.2424736618995667 | f1 = 0.179768 | dcg = -8.520531 | oie = 0.097340\n",
      "Test after epoch_10: 100%|██████████| 2/2 [00:00<00:00, 16.93it/s]\n",
      "INFO:logs/trainer_20240414-21-29.log:epoch: 10, Test: loss = 3.1441116333007812 | f1 = 0.423077 | dcg = -1.084072 | oie = 0.142368\n",
      "Training for epoch_11: 100%|██████████| 8/8 [00:00<00:00, 14.58it/s]\n",
      "Test after epoch_11: 100%|██████████| 2/2 [00:00<00:00, 19.59it/s]\n",
      "Training for epoch_12: 100%|██████████| 8/8 [00:00<00:00, 14.62it/s]\n",
      "Test after epoch_12: 100%|██████████| 2/2 [00:00<00:00, 19.40it/s]\n",
      "Training for epoch_13: 100%|██████████| 8/8 [00:00<00:00, 14.48it/s]\n",
      "Test after epoch_13: 100%|██████████| 2/2 [00:00<00:00, 19.40it/s]\n",
      "Training for epoch_14: 100%|██████████| 8/8 [00:00<00:00, 14.58it/s]\n",
      "Test after epoch_14: 100%|██████████| 2/2 [00:00<00:00, 19.60it/s]\n",
      "Training for epoch_15: 100%|██████████| 8/8 [00:00<00:00, 14.34it/s]\n",
      "INFO:logs/trainer_20240414-21-29.log:epoch: 15, Train: loss = 3.2372686564922333 | f1 = 0.238805 | dcg = -6.923933 | oie = 0.092536\n",
      "Test after epoch_15: 100%|██████████| 2/2 [00:00<00:00, 19.03it/s]\n",
      "INFO:logs/trainer_20240414-21-29.log:epoch: 15, Test: loss = 3.1391111612319946 | f1 = 0.423077 | dcg = -1.084072 | oie = 0.142368\n",
      "Training for epoch_16: 100%|██████████| 8/8 [00:00<00:00, 14.70it/s]\n",
      "Test after epoch_16: 100%|██████████| 2/2 [00:00<00:00, 18.67it/s]\n",
      "Training for epoch_17: 100%|██████████| 8/8 [00:00<00:00, 14.34it/s]\n",
      "Test after epoch_17: 100%|██████████| 2/2 [00:00<00:00, 19.59it/s]\n",
      "Training for epoch_18: 100%|██████████| 8/8 [00:00<00:00, 14.50it/s]\n",
      "Test after epoch_18: 100%|██████████| 2/2 [00:00<00:00, 18.85it/s]\n",
      "Training for epoch_19: 100%|██████████| 8/8 [00:00<00:00, 14.36it/s]\n",
      "Test after epoch_19: 100%|██████████| 2/2 [00:00<00:00, 19.40it/s]\n",
      "Training for epoch_20: 100%|██████████| 8/8 [00:00<00:00, 14.33it/s]\n",
      "INFO:logs/trainer_20240414-21-29.log:epoch: 20, Train: loss = 3.2301168143749237 | f1 = 0.207327 | dcg = -4.743141 | oie = 0.091676\n",
      "Test after epoch_20: 100%|██████████| 2/2 [00:00<00:00, 19.40it/s]\n",
      "INFO:logs/trainer_20240414-21-29.log:epoch: 20, Test: loss = 3.13486647605896 | f1 = 0.423077 | dcg = -1.084072 | oie = 0.142368\n",
      "Training for epoch_21: 100%|██████████| 8/8 [00:00<00:00, 14.47it/s]\n",
      "Test after epoch_21: 100%|██████████| 2/2 [00:00<00:00, 19.21it/s]\n",
      "Training for epoch_22: 100%|██████████| 8/8 [00:00<00:00, 14.57it/s]\n",
      "Test after epoch_22: 100%|██████████| 2/2 [00:00<00:00, 18.00it/s]\n",
      "Training for epoch_23: 100%|██████████| 8/8 [00:00<00:00, 14.76it/s]\n",
      "Test after epoch_23: 100%|██████████| 2/2 [00:00<00:00, 19.11it/s]\n",
      "Training for epoch_24: 100%|██████████| 8/8 [00:00<00:00, 14.60it/s]\n",
      "Test after epoch_24: 100%|██████████| 2/2 [00:00<00:00, 19.59it/s]\n",
      "Training for epoch_25: 100%|██████████| 8/8 [00:00<00:00, 14.62it/s]\n",
      "INFO:logs/trainer_20240414-21-29.log:epoch: 25, Train: loss = 3.2261087000370026 | f1 = 0.245458 | dcg = -6.063747 | oie = 0.105438\n",
      "Test after epoch_25: 100%|██████████| 2/2 [00:00<00:00, 18.00it/s]\n",
      "INFO:logs/trainer_20240414-21-29.log:epoch: 25, Test: loss = 3.1316184997558594 | f1 = 0.478261 | dcg = -0.315465 | oie = 0.146627\n",
      "INFO:logs/trainer_20240414-21-29.log:epoch: 25 | best_test_f1 = 0.478261 | dcg = -0.315465 | oie = 0.146627\n",
      "INFO:logs/trainer_20240414-21-29.log:The best model has beed updated and saved in models/output/MileCut20240414-21-33.pkl\n",
      "\n",
      "Training for epoch_26: 100%|██████████| 8/8 [00:00<00:00, 14.63it/s]\n",
      "Test after epoch_26: 100%|██████████| 2/2 [00:00<00:00, 18.00it/s]\n",
      "Training for epoch_27: 100%|██████████| 8/8 [00:00<00:00, 14.62it/s]\n",
      "Test after epoch_27: 100%|██████████| 2/2 [00:00<00:00, 19.11it/s]\n",
      "Training for epoch_28: 100%|██████████| 8/8 [00:00<00:00, 14.65it/s]\n",
      "Test after epoch_28: 100%|██████████| 2/2 [00:00<00:00, 19.59it/s]\n",
      "Training for epoch_29: 100%|██████████| 8/8 [00:00<00:00, 14.57it/s]\n",
      "Test after epoch_29: 100%|██████████| 2/2 [00:00<00:00, 19.68it/s]\n",
      "INFO:logs/trainer_20240414-21-29.log:epoch: 29, Test: loss = 3.1293861865997314 | f1 = 0.423077 | dcg = -1.084072 | oie = 0.142368\n",
      "INFO:logs/trainer_20240414-21-29.log:the best metric of this model: f1: 0.4782608695652174 | dcg: -0.31546487678572843 | oie: 0.14662688876216184\n",
      "INFO:logs/trainer_20240414-21-29.log:the best-5 metric of this model: f1: 0.43411371237458185 | dcg: -0.9215913667571785 | oie: 0.14329541880973545\n"
     ]
    },
    {
     "data": {
      "image/png": "[encoded data removed]",
      "text/plain": [
       "<Figure size 640x480 with 1 Axes>"
      ]
     },
     "metadata": {},
     "output_type": "display_data"
    },
    {
     "data": {
      "image/png": "[encoded data removed]",
      "text/plain": [
       "<Figure size 640x480 with 1 Axes>"
      ]
     },
     "metadata": {},
     "output_type": "display_data"
    }
   ],
   "source": [
    "trainer.run(reset_params=True, loss_name='MileCut', model_name='MileCut', epoch=30, coefficient=0.6, input_size=6, set_train_seed=True, train_seed=42,view_input_size=3, label_input_size=9)"
   ]
  }
 ],
 "metadata": {
  "kernelspec": {
   "display_name": "Python 3.10.4 ('ddl')",
   "language": "python",
   "name": "python3"
  },
  "language_info": {
   "codemirror_mode": {
    "name": "ipython",
    "version": 3
   },
   "file_extension": ".py",
   "mimetype": "text/x-python",
   "name": "python",
   "nbconvert_exporter": "python",
   "pygments_lexer": "ipython3",
   "version": "3.10.4"
  },
  "orig_nbformat": 4,
  "vscode": {
   "interpreter": {
    "hash": "ba76682379a242897ce142b2785e16557fd4abc2045fbab1a8daeff82d88e275"
   }
  }
 },
 "nbformat": 4,
 "nbformat_minor": 2
}
